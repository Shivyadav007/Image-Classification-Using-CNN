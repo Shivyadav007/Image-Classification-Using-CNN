{
  "nbformat": 4,
  "nbformat_minor": 0,
  "metadata": {
    "colab": {
      "provenance": [],
      "gpuType": "T4"
    },
    "kernelspec": {
      "name": "python3",
      "display_name": "Python 3"
    },
    "language_info": {
      "name": "python"
    },
    "accelerator": "GPU"
  },
  "cells": [
    {
      "cell_type": "markdown",
      "source": [
        "# In this assignment, we will implement **convolution neural network** that will perform binary classification on a set of images of Cat and Dog."
      ],
      "metadata": {
        "id": "3OKa0WTB6Qdk"
      }
    },
    {
      "cell_type": "markdown",
      "source": [
        "Before startig the assignment, we will have to upload the images that we will classify."
      ],
      "metadata": {
        "id": "x9h7SgEu6swi"
      }
    },
    {
      "cell_type": "markdown",
      "source": [
        "## **Importing the Dataset**\n",
        "**Step 1** :Here I have used **Kaggle API** to upload the data in google colab using **kaggle json** file. As its a huge dataset so by uploading from own device it may take more time.Hence this one is a better way to proceed."
      ],
      "metadata": {
        "id": "D-mt-Pfz7J_W"
      }
    },
    {
      "cell_type": "markdown",
      "source": [
        "**Important** : use your kaggle API and use Kaggle Json from below given data set to get the data, as it has 1GB of size"
      ],
      "metadata": {
        "id": "3prJm5LNfPLS"
      }
    },
    {
      "cell_type": "code",
      "execution_count": null,
      "metadata": {
        "id": "BEYil2OCpcCI"
      },
      "outputs": [],
      "source": [
        "# Dataset - https://www.kaggle.com/datasets/salader/dogs-vs-cats"
      ]
    },
    {
      "cell_type": "code",
      "source": [
        "!mkdir -p ~/.kaggle\n",
        "!cp kaggle.json ~/.kaggle/"
      ],
      "metadata": {
        "id": "9ltXgmnE_AjI"
      },
      "execution_count": null,
      "outputs": []
    },
    {
      "cell_type": "code",
      "source": [
        "!kaggle datasets download -d salader/dogs-vs-cats"
      ],
      "metadata": {
        "id": "7Ygyow4lpz7K"
      },
      "execution_count": null,
      "outputs": []
    },
    {
      "cell_type": "markdown",
      "source": [
        "As the data is in zip format so we will use unzip library to extract the data efficiently"
      ],
      "metadata": {
        "id": "qqnucRlq8YON"
      }
    },
    {
      "cell_type": "code",
      "source": [
        "import zipfile\n",
        "zip_ref = zipfile.ZipFile('/content/dogs-vs-cats.zip', 'r')\n",
        "zip_ref.extractall('/content')\n",
        "zip_ref.close()"
      ],
      "metadata": {
        "id": "dRq_DVNNp7T-"
      },
      "execution_count": null,
      "outputs": []
    },
    {
      "cell_type": "markdown",
      "source": [
        "#**Import necessary Libraries**"
      ],
      "metadata": {
        "id": "RcLemjPg80Vv"
      }
    },
    {
      "cell_type": "code",
      "source": [
        "import tensorflow as tf\n",
        "from tensorflow import keras\n",
        "from keras import Sequential\n",
        "from keras.layers import Dense,Conv2D,MaxPooling2D,Flatten,BatchNormalization,Dropout"
      ],
      "metadata": {
        "id": "HLjhKoPuqLL1"
      },
      "execution_count": null,
      "outputs": []
    },
    {
      "cell_type": "markdown",
      "source": [
        "## **Preprocessing the dataset**\n",
        "\n",
        "Before we begin working with the neural network, we need to make sure our data  is in a format that neural networks can work with.\n",
        "\n",
        "First, we create a `train_data` collection of images for training the neural network, and another collection `test_data` that will then be used to check the accuracy of the trained neural network. We do this by taking slices of the total data and concatenating them."
      ],
      "metadata": {
        "id": "b-BfOx9c9dyL"
      }
    },
    {
      "cell_type": "markdown",
      "source": [
        "**Due to huge ammount of data using all the data at a time to train the model will take more time as RAM is small**"
      ],
      "metadata": {
        "id": "KK-s9D1O-vXX"
      }
    },
    {
      "cell_type": "markdown",
      "source": [
        "[Generators from Keras](https://stanford.edu/~shervine/blog/keras-how-to-generate-data-on-the-fly)"
      ],
      "metadata": {
        "id": "St0acDCYAqmD"
      }
    },
    {
      "cell_type": "code",
      "source": [
        "# Here we use concept of generators to handle large amount of data as\n",
        "# it divides the data set into Batches so at a time one batch is used\n",
        "# for training purpose\n",
        "\n",
        "train_ds = keras.utils.image_dataset_from_directory(\n",
        "    directory = '/content/train',\n",
        "    labels='inferred',\n",
        "    label_mode = 'int',\n",
        "    batch_size=32,\n",
        "    image_size=(256,256)\n",
        ")\n",
        "\n",
        "validation_ds = keras.utils.image_dataset_from_directory(\n",
        "    directory = '/content/test',\n",
        "    labels='inferred',\n",
        "    label_mode = 'int',\n",
        "    batch_size=32,\n",
        "    image_size=(256,256)\n",
        ")"
      ],
      "metadata": {
        "id": "-f2dkRxXqobD"
      },
      "execution_count": null,
      "outputs": []
    },
    {
      "cell_type": "markdown",
      "source": [
        "# Normalization"
      ],
      "metadata": {
        "id": "y1sQu0P_CS4C"
      }
    },
    {
      "cell_type": "code",
      "source": [
        "# Now we Normalize the pixel values of images to a standard range  [0, 1]\n",
        "# this helps the model converge faster during training\n",
        "def process(image,label):\n",
        "    image = tf.cast(image/255. ,tf.float32)\n",
        "    return image,label\n",
        "\n",
        "train_ds = train_ds.map(process)\n",
        "validation_ds = validation_ds.map(process)"
      ],
      "metadata": {
        "id": "2H94lUTyr_Rd"
      },
      "execution_count": null,
      "outputs": []
    },
    {
      "cell_type": "markdown",
      "source": [
        "##**Building the Convolutional Neural Network**\n",
        "\n",
        "Now, we will start making the actual neural network.\n",
        "\n",
        "First, initialise the hyperparameters of the neural network.  \n",
        "Here, we are going to make a 3 Convolutional layer  (i.e., 1st layer 32 filters, 2nd layer 64 filters and 3rd layer have 128 filters )"
      ],
      "metadata": {
        "id": "hn4JiMPACYpR"
      }
    },
    {
      "cell_type": "code",
      "source": [
        "# 3 layer CNN model\n",
        "\n",
        "model = Sequential()\n",
        "\n",
        "model.add(Conv2D(32,kernel_size=(3,3),padding='valid',activation='relu',input_shape=(256,256,3)))\n",
        "model.add(MaxPooling2D(pool_size=(2,2),strides=2,padding='valid'))\n",
        "\n",
        "model.add(Conv2D(64,kernel_size=(3,3),padding='valid',activation='relu'))\n",
        "model.add(MaxPooling2D(pool_size=(2,2),strides=2,padding='valid'))\n",
        "\n",
        "model.add(Conv2D(128,kernel_size=(3,3),padding='valid',activation='relu'))\n",
        "model.add(MaxPooling2D(pool_size=(2,2),strides=2,padding='valid'))\n",
        "\n",
        "# Now we add Flatten layer\n",
        "model.add(Flatten())\n",
        "\n",
        "# Now we add Fully Connected layer\n",
        "# We are going to use `ReLU` functions as activation functions for the input and\n",
        "# the first hidden layer and `Sigmoid` function for the final output, as we want\n",
        "# an output between 0 and 1.\n",
        "model.add(Dense(128,activation='relu'))\n",
        "model.add(Dense(64,activation='relu'))\n",
        "\n",
        "model.add(Dense(1,activation='sigmoid')) #output"
      ],
      "metadata": {
        "id": "_FcGcmkescVi"
      },
      "execution_count": null,
      "outputs": []
    },
    {
      "cell_type": "code",
      "source": [
        "model.summary()"
      ],
      "metadata": {
        "id": "7aJZyq2Ltdno"
      },
      "execution_count": null,
      "outputs": []
    },
    {
      "cell_type": "markdown",
      "source": [
        "Now in Our model we have **14847297 parameters**"
      ],
      "metadata": {
        "id": "UX45xaW3EZdW"
      }
    },
    {
      "cell_type": "code",
      "source": [
        "model.compile(optimizer='adam',loss='binary_crossentropy',metrics=['accuracy'])"
      ],
      "metadata": {
        "id": "SL-E5k_5tf9N"
      },
      "execution_count": null,
      "outputs": []
    },
    {
      "cell_type": "code",
      "source": [
        "# training our Model, here I have taken epoch as 10 that we can increase\n",
        "history = model.fit(train_ds,epochs=10,validation_data=validation_ds)#"
      ],
      "metadata": {
        "colab": {
          "base_uri": "https://localhost:8080/"
        },
        "id": "HHBFNFHCtzLu",
        "outputId": "b81bbe80-979e-4770-9932-40e195a65dda"
      },
      "execution_count": null,
      "outputs": [
        {
          "output_type": "stream",
          "name": "stdout",
          "text": [
            "Epoch 1/10\n",
            "625/625 [==============================] - 61s 85ms/step - loss: 0.6218 - accuracy: 0.6450 - val_loss: 0.5172 - val_accuracy: 0.7512\n",
            "Epoch 2/10\n",
            "625/625 [==============================] - 53s 83ms/step - loss: 0.4956 - accuracy: 0.7581 - val_loss: 0.4831 - val_accuracy: 0.7792\n",
            "Epoch 3/10\n",
            "625/625 [==============================] - 57s 91ms/step - loss: 0.3834 - accuracy: 0.8262 - val_loss: 0.4629 - val_accuracy: 0.8086\n",
            "Epoch 4/10\n",
            "625/625 [==============================] - 53s 85ms/step - loss: 0.2507 - accuracy: 0.8951 - val_loss: 0.6032 - val_accuracy: 0.7986\n",
            "Epoch 5/10\n",
            "625/625 [==============================] - 53s 84ms/step - loss: 0.1292 - accuracy: 0.9495 - val_loss: 0.8137 - val_accuracy: 0.8002\n",
            "Epoch 6/10\n",
            "625/625 [==============================] - 52s 82ms/step - loss: 0.0757 - accuracy: 0.9733 - val_loss: 0.9869 - val_accuracy: 0.7934\n",
            "Epoch 7/10\n",
            "625/625 [==============================] - 55s 88ms/step - loss: 0.0582 - accuracy: 0.9807 - val_loss: 1.1708 - val_accuracy: 0.7918\n",
            "Epoch 8/10\n",
            "625/625 [==============================] - 52s 83ms/step - loss: 0.0475 - accuracy: 0.9833 - val_loss: 1.2545 - val_accuracy: 0.8078\n",
            "Epoch 9/10\n",
            "625/625 [==============================] - 52s 82ms/step - loss: 0.0361 - accuracy: 0.9890 - val_loss: 1.0504 - val_accuracy: 0.7992\n",
            "Epoch 10/10\n",
            "625/625 [==============================] - 55s 88ms/step - loss: 0.0266 - accuracy: 0.9919 - val_loss: 1.1849 - val_accuracy: 0.7964\n"
          ]
        }
      ]
    },
    {
      "cell_type": "markdown",
      "source": [
        "# Model Performance\n",
        "On Train and Validation DATA"
      ],
      "metadata": {
        "id": "ds2KJs2TGDzu"
      }
    },
    {
      "cell_type": "code",
      "source": [
        "import matplotlib.pyplot as plt\n",
        "\n",
        "plt.plot(history.history['accuracy'],color='orange',label='train')\n",
        "plt.plot(history.history['val_accuracy'],color='blue',label='validation')\n",
        "plt.legend()\n",
        "plt.show()"
      ],
      "metadata": {
        "id": "GLXWhpapuAuV",
        "colab": {
          "base_uri": "https://localhost:8080/",
          "height": 430
        },
        "outputId": "bac47f4f-5efa-4de4-d832-d791cd355dea"
      },
      "execution_count": null,
      "outputs": [
        {
          "output_type": "display_data",
          "data": {
            "text/plain": [
              "<Figure size 640x480 with 1 Axes>"
            ],
            "image/png": "[encoded data removed]"
          },
          "metadata": {}
        }
      ]
    },
    {
      "cell_type": "markdown",
      "source": [
        "**As we can see that our model is performing well on train data but not performing well on Validation Data that indicates that there is overfitting oucrring**"
      ],
      "metadata": {
        "id": "2VtVipIWHTNR"
      }
    },
    {
      "cell_type": "markdown",
      "source": [
        "Loss Minimization"
      ],
      "metadata": {
        "id": "fD_TekwBGdRf"
      }
    },
    {
      "cell_type": "code",
      "source": [
        "plt.plot(history.history['loss'],color='orange',label='train')\n",
        "plt.plot(history.history['val_loss'],color='blue',label='validation')\n",
        "plt.legend()\n",
        "plt.show()"
      ],
      "metadata": {
        "colab": {
          "base_uri": "https://localhost:8080/",
          "height": 430
        },
        "id": "wgG1voHM2rlf",
        "outputId": "47c69949-532c-4107-d1aa-18397543aec2"
      },
      "execution_count": null,
      "outputs": [
        {
          "output_type": "display_data",
          "data": {
            "text/plain": [
              "<Figure size 640x480 with 1 Axes>"
            ],
            "image/png": "[encoded data removed]"
          },
          "metadata": {}
        }
      ]
    },
    {
      "cell_type": "markdown",
      "source": [
        "# Model 2"
      ],
      "metadata": {
        "id": "_H-eQhGsHaT7"
      }
    },
    {
      "cell_type": "markdown",
      "source": [
        "Now to overcome the above problem and to increase the validation accuracy, there are some methods to handle the overfitting problem"
      ],
      "metadata": {
        "id": "-dipD2ajHi-7"
      }
    },
    {
      "cell_type": "markdown",
      "source": [
        "These are the ways to deal with overfitting problem :\n",
        "1. Data Augmentation\n",
        "2. L1/L2 Regularizer\n",
        "3. Dropout\n"
      ],
      "metadata": {
        "id": "MBjim9ybIP77"
      }
    },
    {
      "cell_type": "markdown",
      "source": [
        "##**Building New Convolutional Neural Network**"
      ],
      "metadata": {
        "id": "MkbSkNs2J9CW"
      }
    },
    {
      "cell_type": "code",
      "source": [
        "#Here I have added the batch Normalization and Dropout\n",
        "\n",
        "model = Sequential()\n",
        "\n",
        "model.add(Conv2D(32,kernel_size=(3,3),padding='valid',activation='relu',input_shape=(256,256,3)))\n",
        "model.add(BatchNormalization())\n",
        "model.add(MaxPooling2D(pool_size=(2,2),strides=2,padding='valid'))\n",
        "\n",
        "model.add(Conv2D(64,kernel_size=(3,3),padding='valid',activation='relu'))\n",
        "model.add(BatchNormalization())\n",
        "model.add(MaxPooling2D(pool_size=(2,2),strides=2,padding='valid'))\n",
        "\n",
        "model.add(Conv2D(128,kernel_size=(3,3),padding='valid',activation='relu'))\n",
        "model.add(BatchNormalization())\n",
        "model.add(MaxPooling2D(pool_size=(2,2),strides=2,padding='valid'))\n",
        "\n",
        "model.add(Flatten())\n",
        "\n",
        "model.add(Dense(128,activation='relu'))\n",
        "model.add(Dropout(0.1))\n",
        "model.add(Dense(64,activation='relu'))\n",
        "model.add(Dropout(0.1))\n",
        "model.add(Dense(1,activation='sigmoid'))"
      ],
      "metadata": {
        "id": "ySKB_2ckI_EO"
      },
      "execution_count": null,
      "outputs": []
    },
    {
      "cell_type": "code",
      "source": [
        "model.summary()"
      ],
      "metadata": {
        "id": "JLkDam5VI_A9",
        "outputId": "90469926-ca0c-42c6-f4f4-19d27e514cb7",
        "colab": {
          "base_uri": "https://localhost:8080/"
        }
      },
      "execution_count": null,
      "outputs": [
        {
          "output_type": "stream",
          "name": "stdout",
          "text": [
            "Model: \"sequential_1\"\n",
            "_________________________________________________________________\n",
            " Layer (type)                Output Shape              Param #   \n",
            "=================================================================\n",
            " conv2d_3 (Conv2D)           (None, 254, 254, 32)      896       \n",
            "                                                                 \n",
            " batch_normalization (Batch  (None, 254, 254, 32)      128       \n",
            " Normalization)                                                  \n",
            "                                                                 \n",
            " max_pooling2d_3 (MaxPoolin  (None, 127, 127, 32)      0         \n",
            " g2D)                                                            \n",
            "                                                                 \n",
            " conv2d_4 (Conv2D)           (None, 125, 125, 64)      18496     \n",
            "                                                                 \n",
            " batch_normalization_1 (Bat  (None, 125, 125, 64)      256       \n",
            " chNormalization)                                                \n",
            "                                                                 \n",
            " max_pooling2d_4 (MaxPoolin  (None, 62, 62, 64)        0         \n",
            " g2D)                                                            \n",
            "                                                                 \n",
            " conv2d_5 (Conv2D)           (None, 60, 60, 128)       73856     \n",
            "                                                                 \n",
            " batch_normalization_2 (Bat  (None, 60, 60, 128)       512       \n",
            " chNormalization)                                                \n",
            "                                                                 \n",
            " max_pooling2d_5 (MaxPoolin  (None, 30, 30, 128)       0         \n",
            " g2D)                                                            \n",
            "                                                                 \n",
            " flatten_1 (Flatten)         (None, 115200)            0         \n",
            "                                                                 \n",
            " dense_3 (Dense)             (None, 128)               14745728  \n",
            "                                                                 \n",
            " dropout (Dropout)           (None, 128)               0         \n",
            "                                                                 \n",
            " dense_4 (Dense)             (None, 64)                8256      \n",
            "                                                                 \n",
            " dropout_1 (Dropout)         (None, 64)                0         \n",
            "                                                                 \n",
            " dense_5 (Dense)             (None, 1)                 65        \n",
            "                                                                 \n",
            "=================================================================\n",
            "Total params: 14848193 (56.64 MB)\n",
            "Trainable params: 14847745 (56.64 MB)\n",
            "Non-trainable params: 448 (1.75 KB)\n",
            "_________________________________________________________________\n"
          ]
        }
      ]
    },
    {
      "cell_type": "code",
      "source": [
        "model.compile(optimizer='adam',loss='binary_crossentropy',metrics=['accuracy'])"
      ],
      "metadata": {
        "id": "dpKS4xKeI-2O"
      },
      "execution_count": null,
      "outputs": []
    },
    {
      "cell_type": "code",
      "source": [
        "history = model.fit(train_ds,epochs=10,validation_data=validation_ds)#"
      ],
      "metadata": {
        "id": "ffx2YyqALKqh",
        "outputId": "d64e2855-cdda-4b17-c73d-7be6f3381fcd",
        "colab": {
          "base_uri": "https://localhost:8080/"
        }
      },
      "execution_count": null,
      "outputs": [
        {
          "output_type": "stream",
          "name": "stdout",
          "text": [
            "Epoch 1/10\n",
            "625/625 [==============================] - 68s 103ms/step - loss: 1.3444 - accuracy: 0.5783 - val_loss: 0.6348 - val_accuracy: 0.6428\n",
            "Epoch 2/10\n",
            "625/625 [==============================] - 64s 102ms/step - loss: 0.6311 - accuracy: 0.6649 - val_loss: 0.5844 - val_accuracy: 0.7006\n",
            "Epoch 3/10\n",
            "625/625 [==============================] - 67s 107ms/step - loss: 0.5278 - accuracy: 0.7419 - val_loss: 0.5135 - val_accuracy: 0.7536\n",
            "Epoch 4/10\n",
            "625/625 [==============================] - 67s 106ms/step - loss: 0.4491 - accuracy: 0.7870 - val_loss: 0.4991 - val_accuracy: 0.7742\n",
            "Epoch 5/10\n",
            "625/625 [==============================] - 65s 104ms/step - loss: 0.3949 - accuracy: 0.8251 - val_loss: 0.4390 - val_accuracy: 0.7734\n",
            "Epoch 6/10\n",
            "625/625 [==============================] - 65s 103ms/step - loss: 0.3291 - accuracy: 0.8565 - val_loss: 0.4151 - val_accuracy: 0.8152\n",
            "Epoch 7/10\n",
            "625/625 [==============================] - 68s 108ms/step - loss: 0.2580 - accuracy: 0.8909 - val_loss: 0.6323 - val_accuracy: 0.7530\n",
            "Epoch 8/10\n",
            "625/625 [==============================] - 67s 107ms/step - loss: 0.1896 - accuracy: 0.9220 - val_loss: 0.7076 - val_accuracy: 0.8024\n",
            "Epoch 9/10\n",
            "625/625 [==============================] - 67s 107ms/step - loss: 0.1492 - accuracy: 0.9420 - val_loss: 0.5667 - val_accuracy: 0.8234\n",
            "Epoch 10/10\n",
            "625/625 [==============================] - 67s 107ms/step - loss: 0.1063 - accuracy: 0.9621 - val_loss: 0.5300 - val_accuracy: 0.8210\n"
          ]
        }
      ]
    },
    {
      "cell_type": "markdown",
      "source": [
        "# Model Performance\n",
        "On Train and Validation DATA"
      ],
      "metadata": {
        "id": "g4wv51RXLayG"
      }
    },
    {
      "cell_type": "code",
      "source": [
        "plt.plot(history.history['accuracy'],color='orange',label='train')\n",
        "plt.plot(history.history['val_accuracy'],color='blue',label='validation')\n",
        "plt.legend()\n",
        "plt.show()"
      ],
      "metadata": {
        "id": "H7YSLtuRLVzj",
        "outputId": "beba855a-5f7a-4bb6-cc51-c8d66636abe1",
        "colab": {
          "base_uri": "https://localhost:8080/",
          "height": 430
        }
      },
      "execution_count": null,
      "outputs": [
        {
          "output_type": "display_data",
          "data": {
            "text/plain": [
              "<Figure size 640x480 with 1 Axes>"
            ],
            "image/png": "[encoded data removed]"
          },
          "metadata": {}
        }
      ]
    },
    {
      "cell_type": "code",
      "source": [
        "plt.plot(history.history['loss'],color='orange',label='train')\n",
        "plt.plot(history.history['val_loss'],color='blue',label='validation')\n",
        "plt.legend()\n",
        "plt.show()"
      ],
      "metadata": {
        "colab": {
          "base_uri": "https://localhost:8080/",
          "height": 434
        },
        "id": "KvbfHPut7Zer",
        "outputId": "fbb61ee7-2c0f-4c31-eade-18ae930a53e5"
      },
      "execution_count": null,
      "outputs": [
        {
          "output_type": "display_data",
          "data": {
            "text/plain": [
              "<Figure size 640x480 with 1 Axes>"
            ],
            "image/png": "[encoded data removed]"
          },
          "metadata": {}
        }
      ]
    },
    {
      "cell_type": "markdown",
      "source": [
        "# Conclusion :\n",
        "As we can see from both Model’s accuracy plot, Model 2 has performed better as its validation accuracy is increases with each epoch and the gap between Training accuracy and Validation accuracy has reduced."
      ],
      "metadata": {
        "id": "WUZt6oxzbu5E"
      }
    },
    {
      "cell_type": "markdown",
      "source": [
        "# **Q4**\n",
        "What will you do to make your model smaller and faster during inference (for mobile real time applications)?\n"
      ],
      "metadata": {
        "id": "OTrTL27Kb5WZ"
      }
    },
    {
      "cell_type": "markdown",
      "source": [
        "As mentioned previously, we can fine tune our model by Data Augmentation\n",
        "putting L1/L2 Regularization, Identify and remove redundant or less important parameters from the model, reducing its size while maintaining performance. Apart from that we can use transferlearning and pre trained model to enhance our accuracy.\n"
      ],
      "metadata": {
        "id": "2eCeGMTAcJqy"
      }
    },
    {
      "cell_type": "code",
      "source": [],
      "metadata": {
        "id": "WO8qgGNWaszW"
      },
      "execution_count": null,
      "outputs": []
    }
  ]
}